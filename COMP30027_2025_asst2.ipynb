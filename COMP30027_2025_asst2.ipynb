{
 "cells": [
  {
   "cell_type": "markdown",
   "metadata": {},
   "source": [
    "##### ### The University of Melbourne, School of Computing and Information Systems\n",
    "# COMP30027 Machine Learning, 2025 Semester 1\n",
    "\n",
    "## Assignment 2\n"
   ]
  },
  {
   "cell_type": "markdown",
   "metadata": {},
   "source": [
    "**Student ID(s):**     `1418850`\n"
   ]
  },
  {
   "cell_type": "markdown",
   "metadata": {},
   "source": [
    "This iPython notebook is a template which you will use for your Assignment 1 submission.\n",
    "\n",
    "**NOTE: YOU SHOULD ADD YOUR RESULTS, GRAPHS, AND FIGURES FROM YOUR OBSERVATIONS IN THIS FILE TO YOUR REPORT (the PDF file).** Results, figures, etc. which appear in this file but are NOT included in your report will not be marked.\n",
    "\n",
    "**Adding proper comments to your code is MANDATORY. **"
   ]
  },
  {
   "cell_type": "markdown",
   "metadata": {},
   "source": [
    "## Load & merge training data\n"
   ]
  },
  {
   "cell_type": "code",
   "execution_count": 1,
   "metadata": {},
   "outputs": [
    {
     "name": "stderr",
     "output_type": "stream",
     "text": [
      "C:\\Users\\mobassharz\\AppData\\Local\\Temp\\15\\ipykernel_33684\\1736251386.py:1: DeprecationWarning: \n",
      "Pyarrow will become a required dependency of pandas in the next major release of pandas (pandas 3.0),\n",
      "(to allow more performant data types, such as the Arrow string type, and better interoperability with other libraries)\n",
      "but was not found to be installed on your system.\n",
      "If this would cause problems for you,\n",
      "please provide us feedback at https://github.com/pandas-dev/pandas/issues/54466\n",
      "        \n",
      "  import pandas as pd\n"
     ]
    },
    {
     "name": "stdout",
     "output_type": "stream",
     "text": [
      "Merged training set shape: (5488, 123)\n",
      "     id      image_path  ClassId      ch_0      ch_1      ch_2      ch_3  \\\n",
      "0  7218  img_000001.jpg       32  0.000000  0.000000  0.268901  0.355617   \n",
      "1  6333  img_000002.jpg       13  0.000000  0.002267  0.657901  0.641467   \n",
      "2  6867  img_000003.jpg        7  0.002243  0.143541  0.385766  0.091956   \n",
      "3  7730  img_000004.jpg        4  0.000000  0.096069  0.947646  0.217350   \n",
      "4  6338  img_000005.jpg       35  0.000000  0.000000  0.000000  0.000000   \n",
      "\n",
      "       ch_4      ch_5      ch_6  ...  hog_pca_14  hog_pca_15  hog_pca_16  \\\n",
      "0  0.511548  0.264923  0.526664  ...   -0.979620    0.450825   -0.213796   \n",
      "1  0.222700  0.243100  0.108233  ...    0.101737   -0.335682   -0.886182   \n",
      "2  0.066163  0.204097  0.353245  ...    0.377116    0.501386   -0.421448   \n",
      "3  0.160404  0.083028  0.042601  ...   -0.595600    0.285638   -0.481589   \n",
      "4  0.000000  0.015324  0.029918  ...    0.601939   -0.520063    0.062209   \n",
      "\n",
      "   hog_pca_17  hog_pca_18  hog_pca_19  edge_density      mean_b      mean_g  \\\n",
      "0   -0.882416   -0.309656    0.271686      0.050293   63.748291   62.107910   \n",
      "1    0.507969    0.006536    0.471807      0.034424   48.680664   52.872314   \n",
      "2    0.081289    0.730258   -0.205895      0.126709   99.174561  110.774658   \n",
      "3   -0.101580   -0.139084    0.586276      0.026123   30.493896   26.616211   \n",
      "4    0.248771    0.140214    0.292198      0.106934  116.836670   97.684814   \n",
      "\n",
      "       mean_r  \n",
      "0   62.850830  \n",
      "1   61.539307  \n",
      "2  127.348389  \n",
      "3   29.006592  \n",
      "4   79.495605  \n",
      "\n",
      "[5 rows x 123 columns]\n"
     ]
    }
   ],
   "source": [
    "import pandas as pd\n",
    "from functools import reduce\n",
    "\n",
    "# Load the metadata (contains Id, filename, ClassId)\n",
    "train_meta = pd.read_csv('train/train_metadata.csv')\n",
    "\n",
    "# Load each feature set\n",
    "train_colour = pd.read_csv('train/Features/color_histogram.csv')\n",
    "train_hog = pd.read_csv('train/Features/hog_pca.csv')\n",
    "train_add = pd.read_csv('train/Features/additional_features.csv')\n",
    "\n",
    "# Merge them all on the common 'image_path' column\n",
    "dataframes = [train_meta, train_colour, train_hog, train_add]\n",
    "train_df = reduce(lambda left, right: pd.merge(left, right, on='image_path'), dataframes)\n",
    "\n",
    "print(f\"Merged training set shape: {train_df.shape}\")\n",
    "print(train_df.head())"
   ]
  },
  {
   "cell_type": "markdown",
   "metadata": {},
   "source": [
    "## Load & merge test data"
   ]
  },
  {
   "cell_type": "code",
   "execution_count": 3,
   "metadata": {
    "collapsed": true
   },
   "outputs": [
    {
     "name": "stdout",
     "output_type": "stream",
     "text": [
      "Merged test set shape: (2353, 123)\n",
      "     id      image_path  ClassId  ch_0      ch_1      ch_2      ch_3  \\\n",
      "0   661  img_005489.jpg      NaN   0.0  0.043099  0.018964  0.031606   \n",
      "1  4477  img_005490.jpg      NaN   0.0  0.046065  0.411173  0.651735   \n",
      "2  1046  img_005491.jpg      NaN   0.0  0.006825  0.040948  0.170616   \n",
      "3   631  img_005492.jpg      NaN   0.0  0.000000  0.000000  0.021120   \n",
      "4  6533  img_005493.jpg      NaN   0.0  0.000000  0.299374  0.917305   \n",
      "\n",
      "       ch_4      ch_5      ch_6  ...  hog_pca_14  hog_pca_15  hog_pca_16  \\\n",
      "0  0.056316  0.049421  0.019538  ...    0.283365   -0.301160   -0.334299   \n",
      "1  0.175730  0.132224  0.185966  ...   -0.229380    0.829642    0.137557   \n",
      "2  0.316492  0.324170  0.271279  ...    0.337062    0.182572   -0.373714   \n",
      "3  0.815159  0.551828  0.135710  ...    0.528455    0.411835   -0.654511   \n",
      "4  0.168114  0.111571  0.102989  ...    0.120786   -0.020706    0.609833   \n",
      "\n",
      "   hog_pca_17  hog_pca_18  hog_pca_19  edge_density      mean_b      mean_g  \\\n",
      "0    0.138616    0.257037    0.684263      0.215820  185.704590  185.033691   \n",
      "1    0.487105   -0.306732   -0.213233      0.174561   67.885010   69.434814   \n",
      "2    0.262148    0.122967   -0.624942      0.068115   72.898193   56.364990   \n",
      "3    0.084131   -0.269949   -0.186074      0.039551   47.619629   50.394043   \n",
      "4    0.413756   -0.373302    0.257994      0.073242   46.095947   39.547852   \n",
      "\n",
      "       mean_r  \n",
      "0  179.084717  \n",
      "1   81.814453  \n",
      "2   56.273926  \n",
      "3   59.411377  \n",
      "4   44.725586  \n",
      "\n",
      "[5 rows x 123 columns]\n"
     ]
    }
   ],
   "source": [
    "# Load test metadata  \n",
    "test_meta  = pd.read_csv('test/test_metadata.csv')\n",
    "\n",
    "# Load each test feature file  \n",
    "test_color = pd.read_csv('test/Features/color_histogram.csv')\n",
    "test_hog   = pd.read_csv('test/Features/hog_pca.csv')\n",
    "test_add   = pd.read_csv('test/Features/additional_features.csv')\n",
    "\n",
    "# Merge on 'image_path'  \n",
    "test_dfs = [test_meta, test_color, test_hog, test_add]\n",
    "test_df  = reduce(lambda left, right: pd.merge(left, right, on='image_path'), test_dfs)\n",
    "  \n",
    "print(f\"Merged test set shape: {test_df.shape}\")   # should be (2353, 123)\n",
    "print(test_df.head())\n"
   ]
  },
  {
   "cell_type": "markdown",
   "metadata": {},
   "source": [
    "## Exploratory data analysis"
   ]
  },
  {
   "cell_type": "code",
   "execution_count": 2,
   "metadata": {},
   "outputs": [
    {
     "name": "stdout",
     "output_type": "stream",
     "text": [
      "Top 10 columns by missing values:\n",
      "id       0\n",
      "ch_89    0\n",
      "ch_87    0\n",
      "ch_86    0\n",
      "ch_85    0\n",
      "ch_84    0\n",
      "ch_83    0\n",
      "ch_82    0\n",
      "ch_81    0\n",
      "ch_80    0\n",
      "dtype: int64\n"
     ]
    },
    {
     "data": {
      "image/png": "[encoded data removed]",
      "text/plain": [
       "<Figure size 1200x300 with 1 Axes>"
      ]
     },
     "metadata": {},
     "output_type": "display_data"
    },
    {
     "name": "stdout",
     "output_type": "stream",
     "text": [
      "First 10 features summary:\n",
      "          count         mean          std  min          25%          50%  \\\n",
      "id       5488.0  3909.515124  2263.069618  1.0  1954.750000  3917.500000   \n",
      "ClassId  5488.0    15.795190    12.018043  0.0     5.000000    12.000000   \n",
      "ch_0     5488.0     0.001594     0.017190  0.0     0.000000     0.000000   \n",
      "ch_1     5488.0     0.091166     0.222423  0.0     0.000000     0.000681   \n",
      "ch_2     5488.0     0.233191     0.300232  0.0     0.000701     0.060961   \n",
      "ch_3     5488.0     0.261800     0.257555  0.0     0.030304     0.190260   \n",
      "ch_4     5488.0     0.248081     0.222946  0.0     0.074960     0.186151   \n",
      "ch_5     5488.0     0.219207     0.193436  0.0     0.072523     0.166587   \n",
      "ch_6     5488.0     0.185793     0.169253  0.0     0.060665     0.138320   \n",
      "ch_7     5488.0     0.155622     0.146814  0.0     0.049787     0.114759   \n",
      "\n",
      "                 75%          max  \n",
      "id       5867.500000  7840.000000  \n",
      "ClassId    25.000000    42.000000  \n",
      "ch_0        0.000000     0.630910  \n",
      "ch_1        0.027122     0.993316  \n",
      "ch_2        0.405630     0.993788  \n",
      "ch_3        0.423200     0.995194  \n",
      "ch_4        0.366910     0.983005  \n",
      "ch_5        0.319094     0.987518  \n",
      "ch_6        0.263843     0.964943  \n",
      "ch_7        0.217700     0.948163  \n"
     ]
    }
   ],
   "source": [
    "import matplotlib.pyplot as plt\n",
    "\n",
    "# 1. Missing‐value check\n",
    "missing = train_df.isna().sum().sort_values(ascending=False)\n",
    "print(\"Top 10 columns by missing values:\")\n",
    "print(missing.head(10))\n",
    "\n",
    "# 2. Class‐balance bar chart\n",
    "plt.figure(figsize=(12, 3))\n",
    "train_df['ClassId']\\\n",
    "    .value_counts()\\\n",
    "    .sort_index()\\\n",
    "    .plot(kind='bar')\n",
    "plt.xlabel('ClassId')\n",
    "plt.ylabel('Count')\n",
    "plt.title('Training Set Class Distribution')\n",
    "plt.tight_layout()\n",
    "plt.show()\n",
    "\n",
    "# 3. Numeric feature summary\n",
    "summary = train_df.describe().T\n",
    "print(\"First 10 features summary:\")\n",
    "print(summary.head(10))\n"
   ]
  },
  {
   "cell_type": "markdown",
   "metadata": {},
   "source": [
    "## Baseline pipelines + 5-fold CV"
   ]
  },
  {
   "cell_type": "code",
   "execution_count": 4,
   "metadata": {},
   "outputs": [
    {
     "name": "stdout",
     "output_type": "stream",
     "text": [
      "\n",
      "=== kNN ===\n",
      "accuracy       : 0.616 ± 0.011\n",
      "precision_macro: 0.669 ± 0.027\n",
      "recall_macro   : 0.563 ± 0.018\n",
      "\n",
      "=== RandomForest ===\n",
      "accuracy       : 0.792 ± 0.008\n",
      "precision_macro: 0.863 ± 0.011\n",
      "recall_macro   : 0.735 ± 0.010\n"
     ]
    }
   ],
   "source": [
    "import numpy as np\n",
    "from sklearn.pipeline import Pipeline\n",
    "from sklearn.preprocessing import StandardScaler\n",
    "from sklearn.neighbors import KNeighborsClassifier\n",
    "from sklearn.ensemble import RandomForestClassifier\n",
    "from sklearn.model_selection import StratifiedKFold, cross_validate\n",
    "\n",
    "# 1. Prepare X, y\n",
    "X = train_df.drop(['id','image_path','ClassId'], axis=1)\n",
    "y = train_df['ClassId']\n",
    "\n",
    "# 2. Define 5-fold stratified CV\n",
    "cv = StratifiedKFold(n_splits=5, shuffle=True, random_state=42)\n",
    "scoring = ['accuracy', 'precision_macro', 'recall_macro']\n",
    "\n",
    "# 3. Pipelines\n",
    "pipelines = {\n",
    "    'kNN': Pipeline([\n",
    "        ('scaler', StandardScaler()),\n",
    "        ('knn', KNeighborsClassifier(n_neighbors=5))\n",
    "    ]),\n",
    "    'RandomForest': Pipeline([\n",
    "        ('scaler', StandardScaler()),\n",
    "        ('rf', RandomForestClassifier(n_estimators=100, \n",
    "                                      class_weight='balanced',\n",
    "                                      random_state=42, n_jobs=-1))\n",
    "    ])\n",
    "}\n",
    "\n",
    "# 4. Cross‐validate each\n",
    "results = {}\n",
    "for name, pipe in pipelines.items():\n",
    "    cv_res = cross_validate(pipe, X, y, cv=cv, scoring=scoring, n_jobs=-1)\n",
    "    results[name] = {\n",
    "        metric: (np.mean(cv_res[f'test_{metric}']), \n",
    "                 np.std(cv_res[f'test_{metric}']))\n",
    "        for metric in scoring\n",
    "    }\n",
    "\n",
    "# 5. Print a summary\n",
    "for name, metrics in results.items():\n",
    "    print(f\"\\n=== {name} ===\")\n",
    "    for metric, (mean, std) in metrics.items():\n",
    "        print(f\"{metric:15s}: {mean:.3f} ± {std:.3f}\")\n"
   ]
  },
  {
   "cell_type": "markdown",
   "metadata": {},
   "source": [
    "# hyperparameter tuning"
   ]
  },
  {
   "cell_type": "code",
   "execution_count": 5,
   "metadata": {},
   "outputs": [
    {
     "name": "stdout",
     "output_type": "stream",
     "text": [
      "Fitting 5 folds for each of 50 candidates, totalling 250 fits\n",
      "Best accuracy:  0.8119554406536789\n",
      "Best parameters: {'rf__max_depth': 30, 'rf__max_features': 'sqrt', 'rf__min_samples_leaf': 1, 'rf__min_samples_split': 4, 'rf__n_estimators': 463}\n"
     ]
    }
   ],
   "source": [
    "from sklearn.model_selection import RandomizedSearchCV\n",
    "from scipy.stats import randint\n",
    "\n",
    "# 1. Rebuild your RF pipeline\n",
    "rf_pipe = Pipeline([\n",
    "    ('scaler', StandardScaler()),\n",
    "    ('rf', RandomForestClassifier(class_weight='balanced', random_state=42))\n",
    "])\n",
    "\n",
    "# 2. Define search space (distributions for RandomizedSearch)\n",
    "param_dist = {\n",
    "    'rf__n_estimators':       randint(100, 501),       # 100–500 trees\n",
    "    'rf__max_depth':          [None, 10, 20, 30, 40],   # None or shallow depths\n",
    "    'rf__max_features':       ['sqrt', 'log2', None],   \n",
    "    'rf__min_samples_split':  randint(2, 11),           # 2–10 samples to split\n",
    "    'rf__min_samples_leaf':   randint(1, 5)             # 1–4 samples per leaf\n",
    "}\n",
    "\n",
    "# 3. Stratified CV setup\n",
    "cv = StratifiedKFold(n_splits=5, shuffle=True, random_state=42)\n",
    "\n",
    "# 4. RandomizedSearchCV\n",
    "rs = RandomizedSearchCV(\n",
    "    rf_pipe,\n",
    "    param_distributions=param_dist,\n",
    "    n_iter=50,                   # try 50 random combinations\n",
    "    scoring='accuracy',          # or 'precision_macro' / 'recall_macro'\n",
    "    cv=cv,\n",
    "    n_jobs=-1,\n",
    "    random_state=42,\n",
    "    verbose=1\n",
    ")\n",
    "\n",
    "# 5. Fit on the full training set\n",
    "rs.fit(X, y)\n",
    "\n",
    "# 6. Results\n",
    "print(\"Best accuracy: \", rs.best_score_)\n",
    "print(\"Best parameters:\", rs.best_params_)\n"
   ]
  },
  {
   "cell_type": "code",
   "execution_count": 8,
   "metadata": {
    "collapsed": true
   },
   "outputs": [],
   "source": [
    "# logistic regression\n",
    "# knn\n",
    "# ddecision tree\n",
    "# Random Forest"
   ]
  }
 ],
 "metadata": {
  "kernelspec": {
   "display_name": "Python 3",
   "language": "python",
   "name": "python3"
  },
  "language_info": {
   "codemirror_mode": {
    "name": "ipython",
    "version": 3
   },
   "file_extension": ".py",
   "mimetype": "text/x-python",
   "name": "python",
   "nbconvert_exporter": "python",
   "pygments_lexer": "ipython3",
   "version": "3.12.0"
  }
 },
 "nbformat": 4,
 "nbformat_minor": 4
}
